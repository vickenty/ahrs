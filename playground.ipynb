{
 "cells": [
  {
   "cell_type": "code",
   "execution_count": null,
   "id": "f0fd24ce",
   "metadata": {},
   "outputs": [],
   "source": [
    "import math\n",
    "import ahrs_py\n",
    "\n",
    "m = ahrs_py.MargEkf()\n",
    "\n",
    "mags = []\n",
    "states = []\n",
    "w = 0\n",
    "theta = 0\n",
    "dt = 0.01\n",
    "\n",
    "force = 1 # orientation depends on the magnitude of mag\n",
    "mag = [force, 0, 0]\n",
    "\n",
    "for i in range(2000):\n",
    "    w = 0\n",
    "    if i > 500:\n",
    "        w = 0.15\n",
    "        theta += w * dt\n",
    "        mag = [force*math.cos(theta), force*math.sin(theta), 0]\n",
    "    m.predict(0, 0, w, 0.01)\n",
    "    m.update([0, 0, 1], mag)\n",
    "    mags.append([w, theta, *mag])\n",
    "    states.append(m.state)"
   ]
  },
  {
   "cell_type": "code",
   "execution_count": null,
   "id": "8ee56a7b",
   "metadata": {},
   "outputs": [],
   "source": [
    "import numpy as np\n",
    "\n",
    "def yrp(q):\n",
    "    srcp = 2 * (q[0] * q[1] + q[2] * q[3])\n",
    "    crcp = 1 - 2 * (q[1] * q[1] + q[2] * q[2])\n",
    "    roll = np.arctan2(srcp, crcp)\n",
    "    \n",
    "    sp = 2 * (q[0] * q[1] - q[3] * q[1])\n",
    "    if sp >= 1:\n",
    "        pitch = 3.14159/2\n",
    "    elif sp <= -1:\n",
    "        pitch = -3.14159/2\n",
    "    else:\n",
    "        pitch = np.arcsin(sp)\n",
    "    \n",
    "    sycp = 2 * (q[0] * q[3] + q[1] * q[2])\n",
    "    cycp = 1 - 2 * (q[2] * q[2] + q[3] * q[3])\n",
    "    yaw = np.arctan2(sycp, cycp)\n",
    "    \n",
    "    return yaw % 3.1415, roll % 3.14159, pitch % 3.14159\n"
   ]
  },
  {
   "cell_type": "code",
   "execution_count": null,
   "id": "678ac1cd",
   "metadata": {},
   "outputs": [],
   "source": [
    "import matplotlib.pyplot as plt\n",
    "plt.rcParams[\"figure.figsize\"] = (20, 10)"
   ]
  },
  {
   "cell_type": "code",
   "execution_count": null,
   "id": "1d79ba10",
   "metadata": {},
   "outputs": [],
   "source": [
    "plt.plot(list(map(yrp, states)))\n",
    "plt.legend([\"Y\", \"R\", \"P\"])"
   ]
  },
  {
   "cell_type": "code",
   "execution_count": null,
   "id": "7c7d6b7c",
   "metadata": {},
   "outputs": [],
   "source": [
    "plt.plot(mags)\n",
    "plt.legend([\"w\", \"theta\", \"mx\", \"my\", \"mz\"])"
   ]
  }
 ],
 "metadata": {
  "kernelspec": {
   "display_name": "ahrs",
   "language": "python",
   "name": "ahrs"
  },
  "language_info": {
   "codemirror_mode": {
    "name": "ipython",
    "version": 3
   },
   "file_extension": ".py",
   "mimetype": "text/x-python",
   "name": "python",
   "nbconvert_exporter": "python",
   "pygments_lexer": "ipython3",
   "version": "3.10.6"
  }
 },
 "nbformat": 4,
 "nbformat_minor": 5
}
